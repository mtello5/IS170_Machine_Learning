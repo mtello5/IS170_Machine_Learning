{
  "nbformat": 4,
  "nbformat_minor": 0,
  "metadata": {
    "colab": {
      "provenance": [],
      "include_colab_link": true
    },
    "kernelspec": {
      "name": "python3",
      "display_name": "Python 3"
    },
    "language_info": {
      "name": "python"
    }
  },
  "cells": [
    {
      "cell_type": "markdown",
      "metadata": {
        "id": "view-in-github",
        "colab_type": "text"
      },
      "source": [
        "<a href=\"https://colab.research.google.com/github/mtello5/IS170_Machine_Learning/blob/K-Nearest-Neighbors/HW7_KNN.ipynb\" target=\"_parent\"><img src=\"https://colab.research.google.com/assets/colab-badge.svg\" alt=\"Open In Colab\"/></a>"
      ]
    },
    {
      "cell_type": "markdown",
      "source": [
        "HW 7 K-Nearest Neighbors | Matthew Tello"
      ],
      "metadata": {
        "id": "EOd9orzNbw9Q"
      }
    },
    {
      "cell_type": "code",
      "execution_count": null,
      "metadata": {
        "id": "H4MedAAePNKf"
      },
      "outputs": [],
      "source": [
        "#import scikit-learn dataset library\n",
        "from sklearn import datasets\n",
        "import pandas as pd\n",
        "import numpy as np\n",
        "from sklearn import preprocessing"
      ]
    },
    {
      "cell_type": "code",
      "source": [
        "#load dataset\n",
        "from google.colab import files\n",
        "uploaded = files.upload()"
      ],
      "metadata": {
        "colab": {
          "base_uri": "https://localhost:8080/",
          "height": 73
        },
        "id": "RhdA5BV6P-Qk",
        "outputId": "ff726458-55be-43c4-f20b-3c8c0da9c8a4"
      },
      "execution_count": null,
      "outputs": [
        {
          "output_type": "display_data",
          "data": {
            "text/plain": [
              "<IPython.core.display.HTML object>"
            ],
            "text/html": [
              "\n",
              "     <input type=\"file\" id=\"files-e0b768fa-1faa-408e-9f92-ac1a56f0da5e\" name=\"files[]\" multiple disabled\n",
              "        style=\"border:none\" />\n",
              "     <output id=\"result-e0b768fa-1faa-408e-9f92-ac1a56f0da5e\">\n",
              "      Upload widget is only available when the cell has been executed in the\n",
              "      current browser session. Please rerun this cell to enable.\n",
              "      </output>\n",
              "      <script>// Copyright 2017 Google LLC\n",
              "//\n",
              "// Licensed under the Apache License, Version 2.0 (the \"License\");\n",
              "// you may not use this file except in compliance with the License.\n",
              "// You may obtain a copy of the License at\n",
              "//\n",
              "//      http://www.apache.org/licenses/LICENSE-2.0\n",
              "//\n",
              "// Unless required by applicable law or agreed to in writing, software\n",
              "// distributed under the License is distributed on an \"AS IS\" BASIS,\n",
              "// WITHOUT WARRANTIES OR CONDITIONS OF ANY KIND, either express or implied.\n",
              "// See the License for the specific language governing permissions and\n",
              "// limitations under the License.\n",
              "\n",
              "/**\n",
              " * @fileoverview Helpers for google.colab Python module.\n",
              " */\n",
              "(function(scope) {\n",
              "function span(text, styleAttributes = {}) {\n",
              "  const element = document.createElement('span');\n",
              "  element.textContent = text;\n",
              "  for (const key of Object.keys(styleAttributes)) {\n",
              "    element.style[key] = styleAttributes[key];\n",
              "  }\n",
              "  return element;\n",
              "}\n",
              "\n",
              "// Max number of bytes which will be uploaded at a time.\n",
              "const MAX_PAYLOAD_SIZE = 100 * 1024;\n",
              "\n",
              "function _uploadFiles(inputId, outputId) {\n",
              "  const steps = uploadFilesStep(inputId, outputId);\n",
              "  const outputElement = document.getElementById(outputId);\n",
              "  // Cache steps on the outputElement to make it available for the next call\n",
              "  // to uploadFilesContinue from Python.\n",
              "  outputElement.steps = steps;\n",
              "\n",
              "  return _uploadFilesContinue(outputId);\n",
              "}\n",
              "\n",
              "// This is roughly an async generator (not supported in the browser yet),\n",
              "// where there are multiple asynchronous steps and the Python side is going\n",
              "// to poll for completion of each step.\n",
              "// This uses a Promise to block the python side on completion of each step,\n",
              "// then passes the result of the previous step as the input to the next step.\n",
              "function _uploadFilesContinue(outputId) {\n",
              "  const outputElement = document.getElementById(outputId);\n",
              "  const steps = outputElement.steps;\n",
              "\n",
              "  const next = steps.next(outputElement.lastPromiseValue);\n",
              "  return Promise.resolve(next.value.promise).then((value) => {\n",
              "    // Cache the last promise value to make it available to the next\n",
              "    // step of the generator.\n",
              "    outputElement.lastPromiseValue = value;\n",
              "    return next.value.response;\n",
              "  });\n",
              "}\n",
              "\n",
              "/**\n",
              " * Generator function which is called between each async step of the upload\n",
              " * process.\n",
              " * @param {string} inputId Element ID of the input file picker element.\n",
              " * @param {string} outputId Element ID of the output display.\n",
              " * @return {!Iterable<!Object>} Iterable of next steps.\n",
              " */\n",
              "function* uploadFilesStep(inputId, outputId) {\n",
              "  const inputElement = document.getElementById(inputId);\n",
              "  inputElement.disabled = false;\n",
              "\n",
              "  const outputElement = document.getElementById(outputId);\n",
              "  outputElement.innerHTML = '';\n",
              "\n",
              "  const pickedPromise = new Promise((resolve) => {\n",
              "    inputElement.addEventListener('change', (e) => {\n",
              "      resolve(e.target.files);\n",
              "    });\n",
              "  });\n",
              "\n",
              "  const cancel = document.createElement('button');\n",
              "  inputElement.parentElement.appendChild(cancel);\n",
              "  cancel.textContent = 'Cancel upload';\n",
              "  const cancelPromise = new Promise((resolve) => {\n",
              "    cancel.onclick = () => {\n",
              "      resolve(null);\n",
              "    };\n",
              "  });\n",
              "\n",
              "  // Wait for the user to pick the files.\n",
              "  const files = yield {\n",
              "    promise: Promise.race([pickedPromise, cancelPromise]),\n",
              "    response: {\n",
              "      action: 'starting',\n",
              "    }\n",
              "  };\n",
              "\n",
              "  cancel.remove();\n",
              "\n",
              "  // Disable the input element since further picks are not allowed.\n",
              "  inputElement.disabled = true;\n",
              "\n",
              "  if (!files) {\n",
              "    return {\n",
              "      response: {\n",
              "        action: 'complete',\n",
              "      }\n",
              "    };\n",
              "  }\n",
              "\n",
              "  for (const file of files) {\n",
              "    const li = document.createElement('li');\n",
              "    li.append(span(file.name, {fontWeight: 'bold'}));\n",
              "    li.append(span(\n",
              "        `(${file.type || 'n/a'}) - ${file.size} bytes, ` +\n",
              "        `last modified: ${\n",
              "            file.lastModifiedDate ? file.lastModifiedDate.toLocaleDateString() :\n",
              "                                    'n/a'} - `));\n",
              "    const percent = span('0% done');\n",
              "    li.appendChild(percent);\n",
              "\n",
              "    outputElement.appendChild(li);\n",
              "\n",
              "    const fileDataPromise = new Promise((resolve) => {\n",
              "      const reader = new FileReader();\n",
              "      reader.onload = (e) => {\n",
              "        resolve(e.target.result);\n",
              "      };\n",
              "      reader.readAsArrayBuffer(file);\n",
              "    });\n",
              "    // Wait for the data to be ready.\n",
              "    let fileData = yield {\n",
              "      promise: fileDataPromise,\n",
              "      response: {\n",
              "        action: 'continue',\n",
              "      }\n",
              "    };\n",
              "\n",
              "    // Use a chunked sending to avoid message size limits. See b/62115660.\n",
              "    let position = 0;\n",
              "    do {\n",
              "      const length = Math.min(fileData.byteLength - position, MAX_PAYLOAD_SIZE);\n",
              "      const chunk = new Uint8Array(fileData, position, length);\n",
              "      position += length;\n",
              "\n",
              "      const base64 = btoa(String.fromCharCode.apply(null, chunk));\n",
              "      yield {\n",
              "        response: {\n",
              "          action: 'append',\n",
              "          file: file.name,\n",
              "          data: base64,\n",
              "        },\n",
              "      };\n",
              "\n",
              "      let percentDone = fileData.byteLength === 0 ?\n",
              "          100 :\n",
              "          Math.round((position / fileData.byteLength) * 100);\n",
              "      percent.textContent = `${percentDone}% done`;\n",
              "\n",
              "    } while (position < fileData.byteLength);\n",
              "  }\n",
              "\n",
              "  // All done.\n",
              "  yield {\n",
              "    response: {\n",
              "      action: 'complete',\n",
              "    }\n",
              "  };\n",
              "}\n",
              "\n",
              "scope.google = scope.google || {};\n",
              "scope.google.colab = scope.google.colab || {};\n",
              "scope.google.colab._files = {\n",
              "  _uploadFiles,\n",
              "  _uploadFilesContinue,\n",
              "};\n",
              "})(self);\n",
              "</script> "
            ]
          },
          "metadata": {}
        },
        {
          "output_type": "stream",
          "name": "stdout",
          "text": [
            "Saving Loan_Default.csv to Loan_Default.csv\n"
          ]
        }
      ]
    },
    {
      "cell_type": "code",
      "source": [
        "# Read data from CSV file\n",
        "df = pd.read_csv('Loan_Default.csv')\n",
        "df.head()"
      ],
      "metadata": {
        "colab": {
          "base_uri": "https://localhost:8080/",
          "height": 334
        },
        "id": "sO_CdgA2Y7cm",
        "outputId": "eb98607a-78e8-47e3-be7e-01eaffa01d43"
      },
      "execution_count": null,
      "outputs": [
        {
          "output_type": "execute_result",
          "data": {
            "text/plain": [
              "      ID  year loan_limit             Gender approv_in_adv loan_type  \\\n",
              "0  24890  2019         cf  Sex Not Available         nopre     type1   \n",
              "1  24891  2019         cf               Male         nopre     type2   \n",
              "2  24892  2019         cf               Male           pre     type1   \n",
              "3  24893  2019         cf               Male         nopre     type1   \n",
              "4  24894  2019         cf              Joint           pre     type1   \n",
              "\n",
              "  loan_purpose Credit_Worthiness open_credit business_or_commercial  ...  \\\n",
              "0           p1                l1        nopc                  nob/c  ...   \n",
              "1           p1                l1        nopc                    b/c  ...   \n",
              "2           p1                l1        nopc                  nob/c  ...   \n",
              "3           p4                l1        nopc                  nob/c  ...   \n",
              "4           p1                l1        nopc                  nob/c  ...   \n",
              "\n",
              "   credit_type  Credit_Score  co-applicant_credit_type    age  \\\n",
              "0          EXP           758                       CIB  25-34   \n",
              "1         EQUI           552                       EXP  55-64   \n",
              "2          EXP           834                       CIB  35-44   \n",
              "3          EXP           587                       CIB  45-54   \n",
              "4         CRIF           602                       EXP  25-34   \n",
              "\n",
              "   submission_of_application        LTV Region Security_Type  Status dtir1  \n",
              "0                    to_inst  98.728814  south        direct       1  45.0  \n",
              "1                    to_inst        NaN  North        direct       1   NaN  \n",
              "2                    to_inst  80.019685  south        direct       0  46.0  \n",
              "3                   not_inst  69.376900  North        direct       0  42.0  \n",
              "4                   not_inst  91.886544  North        direct       0  39.0  \n",
              "\n",
              "[5 rows x 34 columns]"
            ],
            "text/html": [
              "\n",
              "  <div id=\"df-bb96ea3c-213d-452b-a65c-10d167bacd40\">\n",
              "    <div class=\"colab-df-container\">\n",
              "      <div>\n",
              "<style scoped>\n",
              "    .dataframe tbody tr th:only-of-type {\n",
              "        vertical-align: middle;\n",
              "    }\n",
              "\n",
              "    .dataframe tbody tr th {\n",
              "        vertical-align: top;\n",
              "    }\n",
              "\n",
              "    .dataframe thead th {\n",
              "        text-align: right;\n",
              "    }\n",
              "</style>\n",
              "<table border=\"1\" class=\"dataframe\">\n",
              "  <thead>\n",
              "    <tr style=\"text-align: right;\">\n",
              "      <th></th>\n",
              "      <th>ID</th>\n",
              "      <th>year</th>\n",
              "      <th>loan_limit</th>\n",
              "      <th>Gender</th>\n",
              "      <th>approv_in_adv</th>\n",
              "      <th>loan_type</th>\n",
              "      <th>loan_purpose</th>\n",
              "      <th>Credit_Worthiness</th>\n",
              "      <th>open_credit</th>\n",
              "      <th>business_or_commercial</th>\n",
              "      <th>...</th>\n",
              "      <th>credit_type</th>\n",
              "      <th>Credit_Score</th>\n",
              "      <th>co-applicant_credit_type</th>\n",
              "      <th>age</th>\n",
              "      <th>submission_of_application</th>\n",
              "      <th>LTV</th>\n",
              "      <th>Region</th>\n",
              "      <th>Security_Type</th>\n",
              "      <th>Status</th>\n",
              "      <th>dtir1</th>\n",
              "    </tr>\n",
              "  </thead>\n",
              "  <tbody>\n",
              "    <tr>\n",
              "      <th>0</th>\n",
              "      <td>24890</td>\n",
              "      <td>2019</td>\n",
              "      <td>cf</td>\n",
              "      <td>Sex Not Available</td>\n",
              "      <td>nopre</td>\n",
              "      <td>type1</td>\n",
              "      <td>p1</td>\n",
              "      <td>l1</td>\n",
              "      <td>nopc</td>\n",
              "      <td>nob/c</td>\n",
              "      <td>...</td>\n",
              "      <td>EXP</td>\n",
              "      <td>758</td>\n",
              "      <td>CIB</td>\n",
              "      <td>25-34</td>\n",
              "      <td>to_inst</td>\n",
              "      <td>98.728814</td>\n",
              "      <td>south</td>\n",
              "      <td>direct</td>\n",
              "      <td>1</td>\n",
              "      <td>45.0</td>\n",
              "    </tr>\n",
              "    <tr>\n",
              "      <th>1</th>\n",
              "      <td>24891</td>\n",
              "      <td>2019</td>\n",
              "      <td>cf</td>\n",
              "      <td>Male</td>\n",
              "      <td>nopre</td>\n",
              "      <td>type2</td>\n",
              "      <td>p1</td>\n",
              "      <td>l1</td>\n",
              "      <td>nopc</td>\n",
              "      <td>b/c</td>\n",
              "      <td>...</td>\n",
              "      <td>EQUI</td>\n",
              "      <td>552</td>\n",
              "      <td>EXP</td>\n",
              "      <td>55-64</td>\n",
              "      <td>to_inst</td>\n",
              "      <td>NaN</td>\n",
              "      <td>North</td>\n",
              "      <td>direct</td>\n",
              "      <td>1</td>\n",
              "      <td>NaN</td>\n",
              "    </tr>\n",
              "    <tr>\n",
              "      <th>2</th>\n",
              "      <td>24892</td>\n",
              "      <td>2019</td>\n",
              "      <td>cf</td>\n",
              "      <td>Male</td>\n",
              "      <td>pre</td>\n",
              "      <td>type1</td>\n",
              "      <td>p1</td>\n",
              "      <td>l1</td>\n",
              "      <td>nopc</td>\n",
              "      <td>nob/c</td>\n",
              "      <td>...</td>\n",
              "      <td>EXP</td>\n",
              "      <td>834</td>\n",
              "      <td>CIB</td>\n",
              "      <td>35-44</td>\n",
              "      <td>to_inst</td>\n",
              "      <td>80.019685</td>\n",
              "      <td>south</td>\n",
              "      <td>direct</td>\n",
              "      <td>0</td>\n",
              "      <td>46.0</td>\n",
              "    </tr>\n",
              "    <tr>\n",
              "      <th>3</th>\n",
              "      <td>24893</td>\n",
              "      <td>2019</td>\n",
              "      <td>cf</td>\n",
              "      <td>Male</td>\n",
              "      <td>nopre</td>\n",
              "      <td>type1</td>\n",
              "      <td>p4</td>\n",
              "      <td>l1</td>\n",
              "      <td>nopc</td>\n",
              "      <td>nob/c</td>\n",
              "      <td>...</td>\n",
              "      <td>EXP</td>\n",
              "      <td>587</td>\n",
              "      <td>CIB</td>\n",
              "      <td>45-54</td>\n",
              "      <td>not_inst</td>\n",
              "      <td>69.376900</td>\n",
              "      <td>North</td>\n",
              "      <td>direct</td>\n",
              "      <td>0</td>\n",
              "      <td>42.0</td>\n",
              "    </tr>\n",
              "    <tr>\n",
              "      <th>4</th>\n",
              "      <td>24894</td>\n",
              "      <td>2019</td>\n",
              "      <td>cf</td>\n",
              "      <td>Joint</td>\n",
              "      <td>pre</td>\n",
              "      <td>type1</td>\n",
              "      <td>p1</td>\n",
              "      <td>l1</td>\n",
              "      <td>nopc</td>\n",
              "      <td>nob/c</td>\n",
              "      <td>...</td>\n",
              "      <td>CRIF</td>\n",
              "      <td>602</td>\n",
              "      <td>EXP</td>\n",
              "      <td>25-34</td>\n",
              "      <td>not_inst</td>\n",
              "      <td>91.886544</td>\n",
              "      <td>North</td>\n",
              "      <td>direct</td>\n",
              "      <td>0</td>\n",
              "      <td>39.0</td>\n",
              "    </tr>\n",
              "  </tbody>\n",
              "</table>\n",
              "<p>5 rows × 34 columns</p>\n",
              "</div>\n",
              "      <button class=\"colab-df-convert\" onclick=\"convertToInteractive('df-bb96ea3c-213d-452b-a65c-10d167bacd40')\"\n",
              "              title=\"Convert this dataframe to an interactive table.\"\n",
              "              style=\"display:none;\">\n",
              "        \n",
              "  <svg xmlns=\"http://www.w3.org/2000/svg\" height=\"24px\"viewBox=\"0 0 24 24\"\n",
              "       width=\"24px\">\n",
              "    <path d=\"M0 0h24v24H0V0z\" fill=\"none\"/>\n",
              "    <path d=\"M18.56 5.44l.94 2.06.94-2.06 2.06-.94-2.06-.94-.94-2.06-.94 2.06-2.06.94zm-11 1L8.5 8.5l.94-2.06 2.06-.94-2.06-.94L8.5 2.5l-.94 2.06-2.06.94zm10 10l.94 2.06.94-2.06 2.06-.94-2.06-.94-.94-2.06-.94 2.06-2.06.94z\"/><path d=\"M17.41 7.96l-1.37-1.37c-.4-.4-.92-.59-1.43-.59-.52 0-1.04.2-1.43.59L10.3 9.45l-7.72 7.72c-.78.78-.78 2.05 0 2.83L4 21.41c.39.39.9.59 1.41.59.51 0 1.02-.2 1.41-.59l7.78-7.78 2.81-2.81c.8-.78.8-2.07 0-2.86zM5.41 20L4 18.59l7.72-7.72 1.47 1.35L5.41 20z\"/>\n",
              "  </svg>\n",
              "      </button>\n",
              "      \n",
              "  <style>\n",
              "    .colab-df-container {\n",
              "      display:flex;\n",
              "      flex-wrap:wrap;\n",
              "      gap: 12px;\n",
              "    }\n",
              "\n",
              "    .colab-df-convert {\n",
              "      background-color: #E8F0FE;\n",
              "      border: none;\n",
              "      border-radius: 50%;\n",
              "      cursor: pointer;\n",
              "      display: none;\n",
              "      fill: #1967D2;\n",
              "      height: 32px;\n",
              "      padding: 0 0 0 0;\n",
              "      width: 32px;\n",
              "    }\n",
              "\n",
              "    .colab-df-convert:hover {\n",
              "      background-color: #E2EBFA;\n",
              "      box-shadow: 0px 1px 2px rgba(60, 64, 67, 0.3), 0px 1px 3px 1px rgba(60, 64, 67, 0.15);\n",
              "      fill: #174EA6;\n",
              "    }\n",
              "\n",
              "    [theme=dark] .colab-df-convert {\n",
              "      background-color: #3B4455;\n",
              "      fill: #D2E3FC;\n",
              "    }\n",
              "\n",
              "    [theme=dark] .colab-df-convert:hover {\n",
              "      background-color: #434B5C;\n",
              "      box-shadow: 0px 1px 3px 1px rgba(0, 0, 0, 0.15);\n",
              "      filter: drop-shadow(0px 1px 2px rgba(0, 0, 0, 0.3));\n",
              "      fill: #FFFFFF;\n",
              "    }\n",
              "  </style>\n",
              "\n",
              "      <script>\n",
              "        const buttonEl =\n",
              "          document.querySelector('#df-bb96ea3c-213d-452b-a65c-10d167bacd40 button.colab-df-convert');\n",
              "        buttonEl.style.display =\n",
              "          google.colab.kernel.accessAllowed ? 'block' : 'none';\n",
              "\n",
              "        async function convertToInteractive(key) {\n",
              "          const element = document.querySelector('#df-bb96ea3c-213d-452b-a65c-10d167bacd40');\n",
              "          const dataTable =\n",
              "            await google.colab.kernel.invokeFunction('convertToInteractive',\n",
              "                                                     [key], {});\n",
              "          if (!dataTable) return;\n",
              "\n",
              "          const docLinkHtml = 'Like what you see? Visit the ' +\n",
              "            '<a target=\"_blank\" href=https://colab.research.google.com/notebooks/data_table.ipynb>data table notebook</a>'\n",
              "            + ' to learn more about interactive tables.';\n",
              "          element.innerHTML = '';\n",
              "          dataTable['output_type'] = 'display_data';\n",
              "          await google.colab.output.renderOutput(dataTable, element);\n",
              "          const docLink = document.createElement('div');\n",
              "          docLink.innerHTML = docLinkHtml;\n",
              "          element.appendChild(docLink);\n",
              "        }\n",
              "      </script>\n",
              "    </div>\n",
              "  </div>\n",
              "  "
            ]
          },
          "metadata": {},
          "execution_count": 40
        }
      ]
    },
    {
      "cell_type": "code",
      "source": [
        "#Getting the features of this dataset\n",
        "df.columns"
      ],
      "metadata": {
        "colab": {
          "base_uri": "https://localhost:8080/"
        },
        "id": "VIFouEW9GosL",
        "outputId": "d8917374-bf63-4121-c8f5-cf0a5b50bb95"
      },
      "execution_count": null,
      "outputs": [
        {
          "output_type": "execute_result",
          "data": {
            "text/plain": [
              "Index(['ID', 'year', 'loan_limit', 'Gender', 'approv_in_adv', 'loan_type',\n",
              "       'loan_purpose', 'Credit_Worthiness', 'open_credit',\n",
              "       'business_or_commercial', 'loan_amount', 'rate_of_interest',\n",
              "       'Interest_rate_spread', 'Upfront_charges', 'term', 'Neg_ammortization',\n",
              "       'interest_only', 'lump_sum_payment', 'property_value',\n",
              "       'construction_type', 'occupancy_type', 'Secured_by', 'total_units',\n",
              "       'income', 'credit_type', 'Credit_Score', 'co-applicant_credit_type',\n",
              "       'age', 'submission_of_application', 'LTV', 'Region', 'Security_Type',\n",
              "       'Status', 'dtir1'],\n",
              "      dtype='object')"
            ]
          },
          "metadata": {},
          "execution_count": 41
        }
      ]
    },
    {
      "cell_type": "code",
      "source": [
        "#Show new table with unnecessary columns dropped\n",
        "df.head()"
      ],
      "metadata": {
        "colab": {
          "base_uri": "https://localhost:8080/",
          "height": 334
        },
        "id": "oSRRD-HnWDhw",
        "outputId": "f9ab9be8-a257-4260-8819-ca0cb73e9364"
      },
      "execution_count": null,
      "outputs": [
        {
          "output_type": "execute_result",
          "data": {
            "text/plain": [
              "      ID  year loan_limit             Gender approv_in_adv loan_type  \\\n",
              "0  24890  2019         cf  Sex Not Available         nopre     type1   \n",
              "1  24891  2019         cf               Male         nopre     type2   \n",
              "2  24892  2019         cf               Male           pre     type1   \n",
              "3  24893  2019         cf               Male         nopre     type1   \n",
              "4  24894  2019         cf              Joint           pre     type1   \n",
              "\n",
              "  loan_purpose Credit_Worthiness open_credit business_or_commercial  ...  \\\n",
              "0           p1                l1        nopc                  nob/c  ...   \n",
              "1           p1                l1        nopc                    b/c  ...   \n",
              "2           p1                l1        nopc                  nob/c  ...   \n",
              "3           p4                l1        nopc                  nob/c  ...   \n",
              "4           p1                l1        nopc                  nob/c  ...   \n",
              "\n",
              "   credit_type  Credit_Score  co-applicant_credit_type    age  \\\n",
              "0          EXP           758                       CIB  25-34   \n",
              "1         EQUI           552                       EXP  55-64   \n",
              "2          EXP           834                       CIB  35-44   \n",
              "3          EXP           587                       CIB  45-54   \n",
              "4         CRIF           602                       EXP  25-34   \n",
              "\n",
              "   submission_of_application        LTV Region Security_Type  Status dtir1  \n",
              "0                    to_inst  98.728814  south        direct       1  45.0  \n",
              "1                    to_inst        NaN  North        direct       1   NaN  \n",
              "2                    to_inst  80.019685  south        direct       0  46.0  \n",
              "3                   not_inst  69.376900  North        direct       0  42.0  \n",
              "4                   not_inst  91.886544  North        direct       0  39.0  \n",
              "\n",
              "[5 rows x 34 columns]"
            ],
            "text/html": [
              "\n",
              "  <div id=\"df-5712556f-ce37-428e-9bf1-fa7e2a19dc0c\">\n",
              "    <div class=\"colab-df-container\">\n",
              "      <div>\n",
              "<style scoped>\n",
              "    .dataframe tbody tr th:only-of-type {\n",
              "        vertical-align: middle;\n",
              "    }\n",
              "\n",
              "    .dataframe tbody tr th {\n",
              "        vertical-align: top;\n",
              "    }\n",
              "\n",
              "    .dataframe thead th {\n",
              "        text-align: right;\n",
              "    }\n",
              "</style>\n",
              "<table border=\"1\" class=\"dataframe\">\n",
              "  <thead>\n",
              "    <tr style=\"text-align: right;\">\n",
              "      <th></th>\n",
              "      <th>ID</th>\n",
              "      <th>year</th>\n",
              "      <th>loan_limit</th>\n",
              "      <th>Gender</th>\n",
              "      <th>approv_in_adv</th>\n",
              "      <th>loan_type</th>\n",
              "      <th>loan_purpose</th>\n",
              "      <th>Credit_Worthiness</th>\n",
              "      <th>open_credit</th>\n",
              "      <th>business_or_commercial</th>\n",
              "      <th>...</th>\n",
              "      <th>credit_type</th>\n",
              "      <th>Credit_Score</th>\n",
              "      <th>co-applicant_credit_type</th>\n",
              "      <th>age</th>\n",
              "      <th>submission_of_application</th>\n",
              "      <th>LTV</th>\n",
              "      <th>Region</th>\n",
              "      <th>Security_Type</th>\n",
              "      <th>Status</th>\n",
              "      <th>dtir1</th>\n",
              "    </tr>\n",
              "  </thead>\n",
              "  <tbody>\n",
              "    <tr>\n",
              "      <th>0</th>\n",
              "      <td>24890</td>\n",
              "      <td>2019</td>\n",
              "      <td>cf</td>\n",
              "      <td>Sex Not Available</td>\n",
              "      <td>nopre</td>\n",
              "      <td>type1</td>\n",
              "      <td>p1</td>\n",
              "      <td>l1</td>\n",
              "      <td>nopc</td>\n",
              "      <td>nob/c</td>\n",
              "      <td>...</td>\n",
              "      <td>EXP</td>\n",
              "      <td>758</td>\n",
              "      <td>CIB</td>\n",
              "      <td>25-34</td>\n",
              "      <td>to_inst</td>\n",
              "      <td>98.728814</td>\n",
              "      <td>south</td>\n",
              "      <td>direct</td>\n",
              "      <td>1</td>\n",
              "      <td>45.0</td>\n",
              "    </tr>\n",
              "    <tr>\n",
              "      <th>1</th>\n",
              "      <td>24891</td>\n",
              "      <td>2019</td>\n",
              "      <td>cf</td>\n",
              "      <td>Male</td>\n",
              "      <td>nopre</td>\n",
              "      <td>type2</td>\n",
              "      <td>p1</td>\n",
              "      <td>l1</td>\n",
              "      <td>nopc</td>\n",
              "      <td>b/c</td>\n",
              "      <td>...</td>\n",
              "      <td>EQUI</td>\n",
              "      <td>552</td>\n",
              "      <td>EXP</td>\n",
              "      <td>55-64</td>\n",
              "      <td>to_inst</td>\n",
              "      <td>NaN</td>\n",
              "      <td>North</td>\n",
              "      <td>direct</td>\n",
              "      <td>1</td>\n",
              "      <td>NaN</td>\n",
              "    </tr>\n",
              "    <tr>\n",
              "      <th>2</th>\n",
              "      <td>24892</td>\n",
              "      <td>2019</td>\n",
              "      <td>cf</td>\n",
              "      <td>Male</td>\n",
              "      <td>pre</td>\n",
              "      <td>type1</td>\n",
              "      <td>p1</td>\n",
              "      <td>l1</td>\n",
              "      <td>nopc</td>\n",
              "      <td>nob/c</td>\n",
              "      <td>...</td>\n",
              "      <td>EXP</td>\n",
              "      <td>834</td>\n",
              "      <td>CIB</td>\n",
              "      <td>35-44</td>\n",
              "      <td>to_inst</td>\n",
              "      <td>80.019685</td>\n",
              "      <td>south</td>\n",
              "      <td>direct</td>\n",
              "      <td>0</td>\n",
              "      <td>46.0</td>\n",
              "    </tr>\n",
              "    <tr>\n",
              "      <th>3</th>\n",
              "      <td>24893</td>\n",
              "      <td>2019</td>\n",
              "      <td>cf</td>\n",
              "      <td>Male</td>\n",
              "      <td>nopre</td>\n",
              "      <td>type1</td>\n",
              "      <td>p4</td>\n",
              "      <td>l1</td>\n",
              "      <td>nopc</td>\n",
              "      <td>nob/c</td>\n",
              "      <td>...</td>\n",
              "      <td>EXP</td>\n",
              "      <td>587</td>\n",
              "      <td>CIB</td>\n",
              "      <td>45-54</td>\n",
              "      <td>not_inst</td>\n",
              "      <td>69.376900</td>\n",
              "      <td>North</td>\n",
              "      <td>direct</td>\n",
              "      <td>0</td>\n",
              "      <td>42.0</td>\n",
              "    </tr>\n",
              "    <tr>\n",
              "      <th>4</th>\n",
              "      <td>24894</td>\n",
              "      <td>2019</td>\n",
              "      <td>cf</td>\n",
              "      <td>Joint</td>\n",
              "      <td>pre</td>\n",
              "      <td>type1</td>\n",
              "      <td>p1</td>\n",
              "      <td>l1</td>\n",
              "      <td>nopc</td>\n",
              "      <td>nob/c</td>\n",
              "      <td>...</td>\n",
              "      <td>CRIF</td>\n",
              "      <td>602</td>\n",
              "      <td>EXP</td>\n",
              "      <td>25-34</td>\n",
              "      <td>not_inst</td>\n",
              "      <td>91.886544</td>\n",
              "      <td>North</td>\n",
              "      <td>direct</td>\n",
              "      <td>0</td>\n",
              "      <td>39.0</td>\n",
              "    </tr>\n",
              "  </tbody>\n",
              "</table>\n",
              "<p>5 rows × 34 columns</p>\n",
              "</div>\n",
              "      <button class=\"colab-df-convert\" onclick=\"convertToInteractive('df-5712556f-ce37-428e-9bf1-fa7e2a19dc0c')\"\n",
              "              title=\"Convert this dataframe to an interactive table.\"\n",
              "              style=\"display:none;\">\n",
              "        \n",
              "  <svg xmlns=\"http://www.w3.org/2000/svg\" height=\"24px\"viewBox=\"0 0 24 24\"\n",
              "       width=\"24px\">\n",
              "    <path d=\"M0 0h24v24H0V0z\" fill=\"none\"/>\n",
              "    <path d=\"M18.56 5.44l.94 2.06.94-2.06 2.06-.94-2.06-.94-.94-2.06-.94 2.06-2.06.94zm-11 1L8.5 8.5l.94-2.06 2.06-.94-2.06-.94L8.5 2.5l-.94 2.06-2.06.94zm10 10l.94 2.06.94-2.06 2.06-.94-2.06-.94-.94-2.06-.94 2.06-2.06.94z\"/><path d=\"M17.41 7.96l-1.37-1.37c-.4-.4-.92-.59-1.43-.59-.52 0-1.04.2-1.43.59L10.3 9.45l-7.72 7.72c-.78.78-.78 2.05 0 2.83L4 21.41c.39.39.9.59 1.41.59.51 0 1.02-.2 1.41-.59l7.78-7.78 2.81-2.81c.8-.78.8-2.07 0-2.86zM5.41 20L4 18.59l7.72-7.72 1.47 1.35L5.41 20z\"/>\n",
              "  </svg>\n",
              "      </button>\n",
              "      \n",
              "  <style>\n",
              "    .colab-df-container {\n",
              "      display:flex;\n",
              "      flex-wrap:wrap;\n",
              "      gap: 12px;\n",
              "    }\n",
              "\n",
              "    .colab-df-convert {\n",
              "      background-color: #E8F0FE;\n",
              "      border: none;\n",
              "      border-radius: 50%;\n",
              "      cursor: pointer;\n",
              "      display: none;\n",
              "      fill: #1967D2;\n",
              "      height: 32px;\n",
              "      padding: 0 0 0 0;\n",
              "      width: 32px;\n",
              "    }\n",
              "\n",
              "    .colab-df-convert:hover {\n",
              "      background-color: #E2EBFA;\n",
              "      box-shadow: 0px 1px 2px rgba(60, 64, 67, 0.3), 0px 1px 3px 1px rgba(60, 64, 67, 0.15);\n",
              "      fill: #174EA6;\n",
              "    }\n",
              "\n",
              "    [theme=dark] .colab-df-convert {\n",
              "      background-color: #3B4455;\n",
              "      fill: #D2E3FC;\n",
              "    }\n",
              "\n",
              "    [theme=dark] .colab-df-convert:hover {\n",
              "      background-color: #434B5C;\n",
              "      box-shadow: 0px 1px 3px 1px rgba(0, 0, 0, 0.15);\n",
              "      filter: drop-shadow(0px 1px 2px rgba(0, 0, 0, 0.3));\n",
              "      fill: #FFFFFF;\n",
              "    }\n",
              "  </style>\n",
              "\n",
              "      <script>\n",
              "        const buttonEl =\n",
              "          document.querySelector('#df-5712556f-ce37-428e-9bf1-fa7e2a19dc0c button.colab-df-convert');\n",
              "        buttonEl.style.display =\n",
              "          google.colab.kernel.accessAllowed ? 'block' : 'none';\n",
              "\n",
              "        async function convertToInteractive(key) {\n",
              "          const element = document.querySelector('#df-5712556f-ce37-428e-9bf1-fa7e2a19dc0c');\n",
              "          const dataTable =\n",
              "            await google.colab.kernel.invokeFunction('convertToInteractive',\n",
              "                                                     [key], {});\n",
              "          if (!dataTable) return;\n",
              "\n",
              "          const docLinkHtml = 'Like what you see? Visit the ' +\n",
              "            '<a target=\"_blank\" href=https://colab.research.google.com/notebooks/data_table.ipynb>data table notebook</a>'\n",
              "            + ' to learn more about interactive tables.';\n",
              "          element.innerHTML = '';\n",
              "          dataTable['output_type'] = 'display_data';\n",
              "          await google.colab.output.renderOutput(dataTable, element);\n",
              "          const docLink = document.createElement('div');\n",
              "          docLink.innerHTML = docLinkHtml;\n",
              "          element.appendChild(docLink);\n",
              "        }\n",
              "      </script>\n",
              "    </div>\n",
              "  </div>\n",
              "  "
            ]
          },
          "metadata": {},
          "execution_count": 42
        }
      ]
    },
    {
      "cell_type": "code",
      "source": [
        "#Feature EngineerinG\n",
        "df.shape"
      ],
      "metadata": {
        "colab": {
          "base_uri": "https://localhost:8080/"
        },
        "id": "hHZ0M40TX3CA",
        "outputId": "0ceab3de-28e7-439d-e993-a1a8a09a50bf"
      },
      "execution_count": null,
      "outputs": [
        {
          "output_type": "execute_result",
          "data": {
            "text/plain": [
              "(148670, 34)"
            ]
          },
          "metadata": {},
          "execution_count": 43
        }
      ]
    },
    {
      "cell_type": "code",
      "source": [
        "#Deleting out NaN values\n",
        "df = df.dropna()"
      ],
      "metadata": {
        "id": "QnZWyM3EYchc"
      },
      "execution_count": null,
      "outputs": []
    },
    {
      "cell_type": "code",
      "source": [
        "print(df.isna().sum())"
      ],
      "metadata": {
        "colab": {
          "base_uri": "https://localhost:8080/"
        },
        "id": "YJoCJq_LmLTH",
        "outputId": "a739a540-62ef-49fd-d13c-75be008a8ac6"
      },
      "execution_count": null,
      "outputs": [
        {
          "output_type": "stream",
          "name": "stdout",
          "text": [
            "ID                           0\n",
            "year                         0\n",
            "loan_limit                   0\n",
            "Gender                       0\n",
            "approv_in_adv                0\n",
            "loan_type                    0\n",
            "loan_purpose                 0\n",
            "Credit_Worthiness            0\n",
            "open_credit                  0\n",
            "business_or_commercial       0\n",
            "loan_amount                  0\n",
            "rate_of_interest             0\n",
            "Interest_rate_spread         0\n",
            "Upfront_charges              0\n",
            "term                         0\n",
            "Neg_ammortization            0\n",
            "interest_only                0\n",
            "lump_sum_payment             0\n",
            "property_value               0\n",
            "construction_type            0\n",
            "occupancy_type               0\n",
            "Secured_by                   0\n",
            "total_units                  0\n",
            "income                       0\n",
            "credit_type                  0\n",
            "Credit_Score                 0\n",
            "co-applicant_credit_type     0\n",
            "age                          0\n",
            "submission_of_application    0\n",
            "LTV                          0\n",
            "Region                       0\n",
            "Security_Type                0\n",
            "Status                       0\n",
            "dtir1                        0\n",
            "dtype: int64\n"
          ]
        }
      ]
    },
    {
      "cell_type": "markdown",
      "source": [
        "We got rid of all rows will null values so we can work with just the data that is complete."
      ],
      "metadata": {
        "id": "rCrwiRpztW33"
      }
    },
    {
      "cell_type": "code",
      "source": [
        "df.shape"
      ],
      "metadata": {
        "colab": {
          "base_uri": "https://localhost:8080/"
        },
        "id": "LfnutYtemTZs",
        "outputId": "8bbbb482-92f4-4c57-9536-e2e9bbe26ccb"
      },
      "execution_count": null,
      "outputs": [
        {
          "output_type": "execute_result",
          "data": {
            "text/plain": [
              "(98187, 34)"
            ]
          },
          "metadata": {},
          "execution_count": 46
        }
      ]
    },
    {
      "cell_type": "code",
      "source": [
        "X = df[['loan_amount', 'rate_of_interest','term','property_value','income','Credit_Score','dtir1']] .values\n",
        "X[0:5]"
      ],
      "metadata": {
        "colab": {
          "base_uri": "https://localhost:8080/"
        },
        "id": "KOnQAAzKmXLx",
        "outputId": "918f8f3a-c97f-4397-80f1-d365a2594279"
      },
      "execution_count": null,
      "outputs": [
        {
          "output_type": "execute_result",
          "data": {
            "text/plain": [
              "array([[4.065e+05, 4.560e+00, 3.600e+02, 5.080e+05, 9.480e+03, 8.340e+02,\n",
              "        4.600e+01],\n",
              "       [6.965e+05, 4.000e+00, 3.600e+02, 7.580e+05, 1.044e+04, 6.020e+02,\n",
              "        3.900e+01],\n",
              "       [7.065e+05, 3.990e+00, 3.600e+02, 1.008e+06, 1.008e+04, 8.640e+02,\n",
              "        4.000e+01],\n",
              "       [3.465e+05, 4.500e+00, 3.600e+02, 4.380e+05, 5.040e+03, 8.600e+02,\n",
              "        4.400e+01],\n",
              "       [3.765e+05, 4.875e+00, 3.600e+02, 4.780e+05, 5.580e+03, 5.800e+02,\n",
              "        4.400e+01]])"
            ]
          },
          "metadata": {},
          "execution_count": 49
        }
      ]
    },
    {
      "cell_type": "code",
      "source": [
        "# Convert single column to int dtype.\n",
        "lt_map = {'type1': 1, 'type2': 2, 'type3': 3}\n",
        "df['loan_type'] = df['loan_type'].map(lt_map)"
      ],
      "metadata": {
        "id": "RJg4cYFEp5-E"
      },
      "execution_count": null,
      "outputs": []
    },
    {
      "cell_type": "code",
      "source": [
        "y = df['loan_type'].values\n",
        "y[0:5]"
      ],
      "metadata": {
        "colab": {
          "base_uri": "https://localhost:8080/"
        },
        "id": "xiZGBPkqo6FV",
        "outputId": "7de99303-61e6-443b-ec17-43e96e47782c"
      },
      "execution_count": null,
      "outputs": [
        {
          "output_type": "execute_result",
          "data": {
            "text/plain": [
              "array([1, 1, 1, 1, 1])"
            ]
          },
          "metadata": {},
          "execution_count": 54
        }
      ]
    },
    {
      "cell_type": "code",
      "source": [
        "# Standardizing the data\n",
        "from sklearn import preprocessing\n",
        "X = preprocessing.StandardScaler().fit(X).transform(X.astype(float))\n",
        "X[0:5]"
      ],
      "metadata": {
        "colab": {
          "base_uri": "https://localhost:8080/"
        },
        "id": "6YABFYVwn46t",
        "outputId": "d9f063cd-4305-4a19-cdd8-0c9b55e78fbf"
      },
      "execution_count": null,
      "outputs": [
        {
          "output_type": "execute_result",
          "data": {
            "text/plain": [
              "array([[ 0.4161456 ,  0.90108864,  0.43701358, -0.0024823 ,  0.36823608,\n",
              "         1.16273968,  0.86017687],\n",
              "       [ 2.07290046, -0.14672761,  0.43701358,  0.72628761,  0.5230328 ,\n",
              "        -0.84295847,  0.16205829],\n",
              "       [ 2.13002994, -0.16543861,  0.43701358,  1.45505751,  0.46498403,\n",
              "         1.4220972 ,  0.26178952],\n",
              "       [ 0.07336873,  0.78882262,  0.43701358, -0.20653788, -0.34769876,\n",
              "         1.3875162 ,  0.66071442],\n",
              "       [ 0.24475717,  1.49048529,  0.43701358, -0.08993469, -0.2606256 ,\n",
              "        -1.03315399,  0.66071442]])"
            ]
          },
          "metadata": {},
          "execution_count": 55
        }
      ]
    },
    {
      "cell_type": "code",
      "source": [
        "from sklearn.model_selection import train_test_split\n",
        "X_train, X_test, y_train, y_test = train_test_split( X, y, test_size=0.2, random_state=3)\n",
        "print ('Train set:', X_train.shape,  y_train.shape)\n",
        "print ('Test set:', X_test.shape,  y_test.shape)"
      ],
      "metadata": {
        "colab": {
          "base_uri": "https://localhost:8080/"
        },
        "id": "Ju2hItuqn9Zm",
        "outputId": "09c3eb81-e6b1-46a0-dc1f-ee6ba7b9a200"
      },
      "execution_count": null,
      "outputs": [
        {
          "output_type": "stream",
          "name": "stdout",
          "text": [
            "Train set: (78549, 7) (78549,)\n",
            "Test set: (19638, 7) (19638,)\n"
          ]
        }
      ]
    },
    {
      "cell_type": "code",
      "source": [
        "from sklearn.neighbors import KNeighborsClassifier"
      ],
      "metadata": {
        "id": "pa0wz81Pqqpz"
      },
      "execution_count": null,
      "outputs": []
    },
    {
      "cell_type": "code",
      "source": [
        "\n",
        "\n",
        "k = 3\n",
        "#Train Model and Predict  \n",
        "neigh = KNeighborsClassifier(n_neighbors = k).fit(X_train,y_train)\n",
        "neigh"
      ],
      "metadata": {
        "colab": {
          "base_uri": "https://localhost:8080/",
          "height": 74
        },
        "id": "V3dZQuyjqaER",
        "outputId": "137842f3-104f-4396-f163-3dfda213d7c1"
      },
      "execution_count": null,
      "outputs": [
        {
          "output_type": "execute_result",
          "data": {
            "text/plain": [
              "KNeighborsClassifier(n_neighbors=3)"
            ],
            "text/html": [
              "<style>#sk-container-id-2 {color: black;background-color: white;}#sk-container-id-2 pre{padding: 0;}#sk-container-id-2 div.sk-toggleable {background-color: white;}#sk-container-id-2 label.sk-toggleable__label {cursor: pointer;display: block;width: 100%;margin-bottom: 0;padding: 0.3em;box-sizing: border-box;text-align: center;}#sk-container-id-2 label.sk-toggleable__label-arrow:before {content: \"▸\";float: left;margin-right: 0.25em;color: #696969;}#sk-container-id-2 label.sk-toggleable__label-arrow:hover:before {color: black;}#sk-container-id-2 div.sk-estimator:hover label.sk-toggleable__label-arrow:before {color: black;}#sk-container-id-2 div.sk-toggleable__content {max-height: 0;max-width: 0;overflow: hidden;text-align: left;background-color: #f0f8ff;}#sk-container-id-2 div.sk-toggleable__content pre {margin: 0.2em;color: black;border-radius: 0.25em;background-color: #f0f8ff;}#sk-container-id-2 input.sk-toggleable__control:checked~div.sk-toggleable__content {max-height: 200px;max-width: 100%;overflow: auto;}#sk-container-id-2 input.sk-toggleable__control:checked~label.sk-toggleable__label-arrow:before {content: \"▾\";}#sk-container-id-2 div.sk-estimator input.sk-toggleable__control:checked~label.sk-toggleable__label {background-color: #d4ebff;}#sk-container-id-2 div.sk-label input.sk-toggleable__control:checked~label.sk-toggleable__label {background-color: #d4ebff;}#sk-container-id-2 input.sk-hidden--visually {border: 0;clip: rect(1px 1px 1px 1px);clip: rect(1px, 1px, 1px, 1px);height: 1px;margin: -1px;overflow: hidden;padding: 0;position: absolute;width: 1px;}#sk-container-id-2 div.sk-estimator {font-family: monospace;background-color: #f0f8ff;border: 1px dotted black;border-radius: 0.25em;box-sizing: border-box;margin-bottom: 0.5em;}#sk-container-id-2 div.sk-estimator:hover {background-color: #d4ebff;}#sk-container-id-2 div.sk-parallel-item::after {content: \"\";width: 100%;border-bottom: 1px solid gray;flex-grow: 1;}#sk-container-id-2 div.sk-label:hover label.sk-toggleable__label {background-color: #d4ebff;}#sk-container-id-2 div.sk-serial::before {content: \"\";position: absolute;border-left: 1px solid gray;box-sizing: border-box;top: 0;bottom: 0;left: 50%;z-index: 0;}#sk-container-id-2 div.sk-serial {display: flex;flex-direction: column;align-items: center;background-color: white;padding-right: 0.2em;padding-left: 0.2em;position: relative;}#sk-container-id-2 div.sk-item {position: relative;z-index: 1;}#sk-container-id-2 div.sk-parallel {display: flex;align-items: stretch;justify-content: center;background-color: white;position: relative;}#sk-container-id-2 div.sk-item::before, #sk-container-id-2 div.sk-parallel-item::before {content: \"\";position: absolute;border-left: 1px solid gray;box-sizing: border-box;top: 0;bottom: 0;left: 50%;z-index: -1;}#sk-container-id-2 div.sk-parallel-item {display: flex;flex-direction: column;z-index: 1;position: relative;background-color: white;}#sk-container-id-2 div.sk-parallel-item:first-child::after {align-self: flex-end;width: 50%;}#sk-container-id-2 div.sk-parallel-item:last-child::after {align-self: flex-start;width: 50%;}#sk-container-id-2 div.sk-parallel-item:only-child::after {width: 0;}#sk-container-id-2 div.sk-dashed-wrapped {border: 1px dashed gray;margin: 0 0.4em 0.5em 0.4em;box-sizing: border-box;padding-bottom: 0.4em;background-color: white;}#sk-container-id-2 div.sk-label label {font-family: monospace;font-weight: bold;display: inline-block;line-height: 1.2em;}#sk-container-id-2 div.sk-label-container {text-align: center;}#sk-container-id-2 div.sk-container {/* jupyter's `normalize.less` sets `[hidden] { display: none; }` but bootstrap.min.css set `[hidden] { display: none !important; }` so we also need the `!important` here to be able to override the default hidden behavior on the sphinx rendered scikit-learn.org. See: https://github.com/scikit-learn/scikit-learn/issues/21755 */display: inline-block !important;position: relative;}#sk-container-id-2 div.sk-text-repr-fallback {display: none;}</style><div id=\"sk-container-id-2\" class=\"sk-top-container\"><div class=\"sk-text-repr-fallback\"><pre>KNeighborsClassifier(n_neighbors=3)</pre><b>In a Jupyter environment, please rerun this cell to show the HTML representation or trust the notebook. <br />On GitHub, the HTML representation is unable to render, please try loading this page with nbviewer.org.</b></div><div class=\"sk-container\" hidden><div class=\"sk-item\"><div class=\"sk-estimator sk-toggleable\"><input class=\"sk-toggleable__control sk-hidden--visually\" id=\"sk-estimator-id-2\" type=\"checkbox\" checked><label for=\"sk-estimator-id-2\" class=\"sk-toggleable__label sk-toggleable__label-arrow\">KNeighborsClassifier</label><div class=\"sk-toggleable__content\"><pre>KNeighborsClassifier(n_neighbors=3)</pre></div></div></div></div></div>"
            ]
          },
          "metadata": {},
          "execution_count": 61
        }
      ]
    },
    {
      "cell_type": "code",
      "source": [
        "yhat = neigh.predict(X_test)\n",
        "yhat[0:5]"
      ],
      "metadata": {
        "colab": {
          "base_uri": "https://localhost:8080/"
        },
        "id": "wPelowIQqx7T",
        "outputId": "b5b0e1e0-3cb5-4f6b-a860-9e3a6b071ee0"
      },
      "execution_count": null,
      "outputs": [
        {
          "output_type": "execute_result",
          "data": {
            "text/plain": [
              "array([1, 1, 1, 1, 1])"
            ]
          },
          "metadata": {},
          "execution_count": 62
        }
      ]
    },
    {
      "cell_type": "code",
      "source": [
        "from sklearn import metrics\n",
        "print(\"Train set Accuracy: \", metrics.accuracy_score(y_train, neigh.predict(X_train)))\n",
        "print(\"Test set Accuracy: \", metrics.accuracy_score(y_test, yhat))"
      ],
      "metadata": {
        "colab": {
          "base_uri": "https://localhost:8080/"
        },
        "id": "QA-khCKZq0TC",
        "outputId": "fae29ba6-f675-41a3-b6f9-902e6110e12f"
      },
      "execution_count": null,
      "outputs": [
        {
          "output_type": "stream",
          "name": "stdout",
          "text": [
            "Train set Accuracy:  0.8999605341888502\n",
            "Test set Accuracy:  0.8464711274060495\n"
          ]
        }
      ]
    },
    {
      "cell_type": "code",
      "source": [
        "k = 3\n",
        "neigh3 = KNeighborsClassifier(n_neighbors = k).fit(X_train,y_train)\n",
        "yhat3 = neigh3.predict(X_test)\n",
        "print(\"Train set Accuracy: \", metrics.accuracy_score(y_train, neigh3.predict(X_train)))\n",
        "print(\"Test set Accuracy: \", metrics.accuracy_score(y_test, yhat3))"
      ],
      "metadata": {
        "colab": {
          "base_uri": "https://localhost:8080/"
        },
        "id": "NXguOAd2se6v",
        "outputId": "4f0e9668-1c98-49cc-cd4b-4456e43a43c6"
      },
      "execution_count": null,
      "outputs": [
        {
          "output_type": "stream",
          "name": "stdout",
          "text": [
            "Train set Accuracy:  0.8992985270340806\n",
            "Test set Accuracy:  0.8491190548935736\n"
          ]
        }
      ]
    },
    {
      "cell_type": "code",
      "source": [
        "k = 5\n",
        "neigh5 = KNeighborsClassifier(n_neighbors = k).fit(X_train,y_train)\n",
        "yhat5 = neigh5.predict(X_test)\n",
        "print(\"Train set Accuracy: \", metrics.accuracy_score(y_train, neigh5.predict(X_train)))\n",
        "print(\"Test set Accuracy: \", metrics.accuracy_score(y_test, yhat5))"
      ],
      "metadata": {
        "colab": {
          "base_uri": "https://localhost:8080/"
        },
        "id": "fXVAlmGMq3di",
        "outputId": "f8387c6d-058a-4b98-f325-a7b8b022c3bf"
      },
      "execution_count": null,
      "outputs": [
        {
          "output_type": "stream",
          "name": "stdout",
          "text": [
            "Train set Accuracy:  0.8844415587722313\n",
            "Test set Accuracy:  0.8580303493227416\n"
          ]
        }
      ]
    },
    {
      "cell_type": "code",
      "source": [
        "k = 7\n",
        "neigh7 = KNeighborsClassifier(n_neighbors = k).fit(X_train,y_train)\n",
        "yhat7 = neigh7.predict(X_test)\n",
        "print(\"Train set Accuracy: \", metrics.accuracy_score(y_train, neigh7.predict(X_train)))\n",
        "print(\"Test set Accuracy: \", metrics.accuracy_score(y_test, yhat7))"
      ],
      "metadata": {
        "colab": {
          "base_uri": "https://localhost:8080/"
        },
        "id": "bszz4-hHs5OX",
        "outputId": "e46cb978-cbe4-4a4f-b687-83dee18ea321"
      },
      "execution_count": null,
      "outputs": [
        {
          "output_type": "stream",
          "name": "stdout",
          "text": [
            "Train set Accuracy:  0.8795910832728615\n",
            "Test set Accuracy:  0.8620531622364803\n"
          ]
        }
      ]
    },
    {
      "cell_type": "markdown",
      "source": [
        "Dear Boss,\n",
        "KNN is an example of a machine learning algorithm known as K-Nearest Neighbors.\n",
        "On the basis of information about the borrower, it is used to anticipate whether a loan will default or not. The algorithm considers a variety of parameters, including the borrower's credit score, income, loan amount, etc.\n",
        "The system then compares these parameters to those of comparable borrowers in the past and generates a prediction based on their outcomes.\n",
        "KNN is a good technique for predicting loan defaults since it is able to produce accurate forecasts based on the experiences of comparable borrowers. "
      ],
      "metadata": {
        "id": "zYhdTgloZzGg"
      }
    }
  ]
}