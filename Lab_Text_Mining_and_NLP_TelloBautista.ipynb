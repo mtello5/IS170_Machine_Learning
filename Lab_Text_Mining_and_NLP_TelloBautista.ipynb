{
  "nbformat": 4,
  "nbformat_minor": 0,
  "metadata": {
    "colab": {
      "provenance": [],
      "include_colab_link": true
    },
    "kernelspec": {
      "name": "python3",
      "display_name": "Python 3"
    },
    "language_info": {
      "name": "python"
    }
  },
  "cells": [
    {
      "cell_type": "markdown",
      "metadata": {
        "id": "view-in-github",
        "colab_type": "text"
      },
      "source": [
        "<a href=\"https://colab.research.google.com/github/mtello5/IS170_Machine_Learning/blob/Text-Mining-%26-Natural-Language-Processing/Lab_Text_Mining_and_NLP_TelloBautista.ipynb\" target=\"_parent\"><img src=\"https://colab.research.google.com/assets/colab-badge.svg\" alt=\"Open In Colab\"/></a>"
      ]
    },
    {
      "cell_type": "markdown",
      "source": [
        "**Text Mining & NLP** - Matthew Tello, David Bautista"
      ],
      "metadata": {
        "id": "ImpYLTmq08jH"
      }
    },
    {
      "cell_type": "code",
      "execution_count": null,
      "metadata": {
        "colab": {
          "base_uri": "https://localhost:8080/"
        },
        "id": "SSpbtiBvlVuW",
        "outputId": "7b3a7916-2068-4362-e2e8-2850fd4627cb"
      },
      "outputs": [
        {
          "output_type": "stream",
          "name": "stderr",
          "text": [
            "[nltk_data] Downloading package punkt to /root/nltk_data...\n",
            "[nltk_data]   Unzipping tokenizers/punkt.zip.\n"
          ]
        },
        {
          "output_type": "execute_result",
          "data": {
            "text/plain": [
              "True"
            ]
          },
          "metadata": {},
          "execution_count": 1
        }
      ],
      "source": [
        "import nltk\n",
        "nltk.download('punkt')"
      ]
    },
    {
      "cell_type": "code",
      "source": [
        "from nltk.tokenize import sent_tokenize\n",
        "myString=\"This is the how we use tokenization to determine how a paragraph can be broken into segments. By using tokeneization in its sentence funtion we can break up this paragraph even when we inclide commas, and non-sentence ending periods.\"\n",
        "\n",
        "tokenized_sentence = sent_tokenize(myString)\n",
        "print(tokenized_sentence)\n"
      ],
      "metadata": {
        "colab": {
          "base_uri": "https://localhost:8080/"
        },
        "id": "NvAJLu0bldSb",
        "outputId": "93fa3046-3702-4885-8433-4e50907d8e7b"
      },
      "execution_count": null,
      "outputs": [
        {
          "output_type": "stream",
          "name": "stdout",
          "text": [
            "['This is the how we use tokenization to determine how a paragraph can be broken into segments.', 'By using tokeneization in its sentence funtion we can break up this paragraph even when we inclide commas, and non-sentence ending periods.']\n"
          ]
        }
      ]
    },
    {
      "cell_type": "code",
      "source": [
        "from nltk.tokenize import sent_tokenize\n",
        "myString=\"These are long sentences. Let us tokenize it! Run it!\"\n",
        "print(myString.split())\n"
      ],
      "metadata": {
        "colab": {
          "base_uri": "https://localhost:8080/"
        },
        "id": "kAlhwaqcu8Xj",
        "outputId": "e931fd73-0bb0-4600-b287-62526dae6011"
      },
      "execution_count": null,
      "outputs": [
        {
          "output_type": "stream",
          "name": "stdout",
          "text": [
            "['These', 'are', 'long', 'sentences.', 'Let', 'us', 'tokenize', 'it!', 'Run', 'it!']\n"
          ]
        }
      ]
    },
    {
      "cell_type": "code",
      "source": [
        "from nltk.tokenize import word_tokenize, regexp_tokenize\n",
        "myString=\"These are 5 sentences that show tokenization. Let us tokenize it for 10 more days! Run it!\"\n",
        "print(word_tokenize(myString))\n",
        "print(regexp_tokenize(myString, pattern=\"\\w+\"))\n",
        "print(regexp_tokenize(myString, pattern=\"\\d+\"))"
      ],
      "metadata": {
        "colab": {
          "base_uri": "https://localhost:8080/"
        },
        "id": "aGWB0HB-u-Sy",
        "outputId": "0a3ccab3-a3cf-41c7-bb1c-cc3bd1573ac9"
      },
      "execution_count": null,
      "outputs": [
        {
          "output_type": "stream",
          "name": "stdout",
          "text": [
            "['These', 'are', '5', 'sentences', 'that', 'show', 'tokenization', '.', 'Let', 'us', 'tokenize', 'it', 'for', '10', 'more', 'days', '!', 'Run', 'it', '!']\n",
            "['These', 'are', '5', 'sentences', 'that', 'show', 'tokenization', 'Let', 'us', 'tokenize', 'it', 'for', '10', 'more', 'days', 'Run', 'it']\n",
            "['5', '10']\n"
          ]
        }
      ]
    },
    {
      "cell_type": "code",
      "source": [
        "from nltk.stem import PorterStemmer\n",
        "porter=PorterStemmer()\n",
        "print(porter.stem(\"shaving\"))"
      ],
      "metadata": {
        "colab": {
          "base_uri": "https://localhost:8080/"
        },
        "id": "eG-P0spOvAsq",
        "outputId": "9c59ad5d-2b9e-496b-a242-25e69f58abb8"
      },
      "execution_count": null,
      "outputs": [
        {
          "output_type": "stream",
          "name": "stdout",
          "text": [
            "shave\n"
          ]
        }
      ]
    },
    {
      "cell_type": "code",
      "source": [
        "from nltk.stem import LancasterStemmer\n",
        "lancaster=LancasterStemmer()\n",
        "print(lancaster.stem(\"swimming\"))"
      ],
      "metadata": {
        "colab": {
          "base_uri": "https://localhost:8080/"
        },
        "id": "VEw2phl_vCWV",
        "outputId": "5769e358-b47b-4456-dea2-16013a78effe"
      },
      "execution_count": null,
      "outputs": [
        {
          "output_type": "stream",
          "name": "stdout",
          "text": [
            "swim\n"
          ]
        }
      ]
    },
    {
      "cell_type": "code",
      "source": [
        "from nltk.stem.snowball import SnowballStemmer\n",
        "snowball=SnowballStemmer(\"english\")\n",
        "print(snowball.stem(\"plowing\"))\n"
      ],
      "metadata": {
        "id": "9aUo-rT4vEYd",
        "outputId": "8907ff42-db11-4838-a1ca-d3108ffe8d69",
        "colab": {
          "base_uri": "https://localhost:8080/"
        }
      },
      "execution_count": null,
      "outputs": [
        {
          "output_type": "stream",
          "name": "stdout",
          "text": [
            "plow\n"
          ]
        }
      ]
    },
    {
      "cell_type": "code",
      "source": [
        "import nltk\n",
        "nltk.download('omw-1.4')\n",
        "from nltk.stem import WordNetLemmatizer\n",
        "\n",
        "nltk.download('wordnet')\n",
        "lemma=WordNetLemmatizer()\n",
        "print(lemma.lemmatize(\"cats\"))\n",
        "print(lemma.lemmatize(\"bats\"))\n",
        "print(lemma.lemmatize(\"dogs\"))\n",
        "print(lemma.lemmatize(\"cows\"))\n",
        "print(lemma.lemmatize(\"deers\"))"
      ],
      "metadata": {
        "id": "n0RLwifxvGM4",
        "outputId": "e5af21b8-d60a-4e46-ccbd-374f3bcd11de",
        "colab": {
          "base_uri": "https://localhost:8080/"
        }
      },
      "execution_count": null,
      "outputs": [
        {
          "output_type": "stream",
          "name": "stdout",
          "text": [
            "cat\n",
            "bat\n",
            "dog\n",
            "cow\n",
            "deer\n"
          ]
        },
        {
          "output_type": "stream",
          "name": "stderr",
          "text": [
            "[nltk_data] Downloading package omw-1.4 to /root/nltk_data...\n",
            "[nltk_data]   Package omw-1.4 is already up-to-date!\n",
            "[nltk_data] Downloading package wordnet to /root/nltk_data...\n",
            "[nltk_data]   Package wordnet is already up-to-date!\n"
          ]
        }
      ]
    },
    {
      "cell_type": "code",
      "source": [
        "import nltk\n",
        "from nltk.corpus import stopwords\n",
        "\n",
        "nltk.download('stopwords')\n",
        "mylist=stopwords.words('english')\n",
        "paragraph=\"The words that you have used in the paragraph have created a long text. You may have to delete words like Deep Learning and Machine Learning which are not important that may be removed.\"\n",
        "postPa=[word for word in paragraph.split() if word not in mylist]\n",
        "print(postPa)"
      ],
      "metadata": {
        "id": "6l9c-3egvIdr",
        "outputId": "9b1af3b3-5cd2-4e58-8b81-88304736b602",
        "colab": {
          "base_uri": "https://localhost:8080/"
        }
      },
      "execution_count": null,
      "outputs": [
        {
          "output_type": "stream",
          "name": "stdout",
          "text": [
            "['The', 'words', 'used', 'paragraph', 'created', 'long', 'text.', 'You', 'may', 'delete', 'words', 'like', 'Deep', 'Learning', 'Machine', 'Learning', 'important', 'may', 'removed.']\n"
          ]
        },
        {
          "output_type": "stream",
          "name": "stderr",
          "text": [
            "[nltk_data] Downloading package stopwords to /root/nltk_data...\n",
            "[nltk_data]   Package stopwords is already up-to-date!\n"
          ]
        }
      ]
    },
    {
      "cell_type": "code",
      "source": [
        "myString = \"The 5 countries includes Canada, France, England, Brazil and the U.S.\"\n",
        "str=myString.lower()\n",
        "print(str)\n"
      ],
      "metadata": {
        "colab": {
          "base_uri": "https://localhost:8080/"
        },
        "id": "KOSJbcTlxLLI",
        "outputId": "03f17de9-b5ee-4f44-971b-48580009e349"
      },
      "execution_count": null,
      "outputs": [
        {
          "output_type": "stream",
          "name": "stdout",
          "text": [
            "the 5 countries includes canada, france, england, brazil and the u.s.\n"
          ]
        }
      ]
    },
    {
      "cell_type": "code",
      "source": [
        "myString = \"The 5 countries includes Canada, France, England, Brazil and the U.S.\"\n",
        "str=myString.upper()\n",
        "print(str)"
      ],
      "metadata": {
        "colab": {
          "base_uri": "https://localhost:8080/"
        },
        "id": "ldHxeL2bxNu5",
        "outputId": "6d37497d-f066-42a0-e9d5-a3f30c0fba0c"
      },
      "execution_count": null,
      "outputs": [
        {
          "output_type": "stream",
          "name": "stdout",
          "text": [
            "THE 5 COUNTRIES INCLUDES CANADA, FRANCE, ENGLAND, BRAZIL AND THE U.S.\n"
          ]
        }
      ]
    },
    {
      "cell_type": "code",
      "source": [
        "import re\n",
        "myString = 'Box A has 4 red and 6 white balls, while Box B has 3 red and 5 blue balls.'\n",
        "output = re.sub(r'\\d+', \" \", myString)\n",
        "print(output)"
      ],
      "metadata": {
        "colab": {
          "base_uri": "https://localhost:8080/"
        },
        "id": "ss6Z-giGxPeA",
        "outputId": "dfb9e11a-72fd-442f-fc0a-714b4f9b7f07"
      },
      "execution_count": null,
      "outputs": [
        {
          "output_type": "stream",
          "name": "stdout",
          "text": [
            "Box A has   red and   white balls, while Box B has   red and   blue balls.\n"
          ]
        }
      ]
    },
    {
      "cell_type": "code",
      "source": [
        "import string\n",
        "myString = \"This &is [a] string? that, was.{purposley} flooded {with} many.punctuation.? marks!!!!\"\n",
        "output = myString.translate(str.maketrans(\"\",\"\", string.punctuation))\n",
        "print(output)"
      ],
      "metadata": {
        "colab": {
          "base_uri": "https://localhost:8080/"
        },
        "id": "YcrnPkyWxRSj",
        "outputId": "88e27c9f-5a99-49cc-a042-6371b8d3edb3"
      },
      "execution_count": null,
      "outputs": [
        {
          "output_type": "stream",
          "name": "stdout",
          "text": [
            "This is a string that waspurposley flooded with manypunctuation marks\n"
          ]
        }
      ]
    },
    {
      "cell_type": "code",
      "source": [
        "import string\n",
        "myString = \"\\t a test string\\t\"\n",
        "str=myString.strip()\n",
        "print(str)"
      ],
      "metadata": {
        "id": "9ZFzBuxQxTGq",
        "outputId": "d8eee09b-e127-402d-cde2-1e9f1b44c98e",
        "colab": {
          "base_uri": "https://localhost:8080/"
        }
      },
      "execution_count": null,
      "outputs": [
        {
          "output_type": "stream",
          "name": "stdout",
          "text": [
            "a test string\n"
          ]
        }
      ]
    }
  ]
}