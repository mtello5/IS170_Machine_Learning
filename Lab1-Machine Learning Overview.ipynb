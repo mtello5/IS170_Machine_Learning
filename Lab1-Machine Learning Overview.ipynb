{
  "nbformat": 4,
  "nbformat_minor": 0,
  "metadata": {
    "colab": {
      "provenance": [],
      "include_colab_link": true
    },
    "kernelspec": {
      "name": "python3",
      "display_name": "Python 3"
    },
    "language_info": {
      "name": "python"
    }
  },
  "cells": [
    {
      "cell_type": "markdown",
      "metadata": {
        "id": "view-in-github",
        "colab_type": "text"
      },
      "source": [
        "<a href=\"https://colab.research.google.com/github/mtello5/IS170_Machine_Learning/blob/1-Overview-of-Machine-Learning/Lab1-Machine%20Learning%20Overview.ipynb\" target=\"_parent\"><img src=\"https://colab.research.google.com/assets/colab-badge.svg\" alt=\"Open In Colab\"/></a>"
      ]
    },
    {
      "cell_type": "code",
      "execution_count": null,
      "metadata": {
        "id": "w4_iVx3SeM71"
      },
      "outputs": [],
      "source": [
        "# Matthew Tello, Robert Sanchez, Yan Chai Hui"
      ]
    },
    {
      "cell_type": "code",
      "source": [
        "print(\"Hello Fresno State\") #this is how you enter a python command"
      ],
      "metadata": {
        "colab": {
          "base_uri": "https://localhost:8080/"
        },
        "id": "e-s8stGDeX9X",
        "outputId": "eaf16ec9-9819-45cb-90f0-8e525f12f1ad"
      },
      "execution_count": null,
      "outputs": [
        {
          "output_type": "stream",
          "name": "stdout",
          "text": [
            "Hello Fresno State\n"
          ]
        }
      ]
    },
    {
      "cell_type": "code",
      "source": [
        "print(2+8)"
      ],
      "metadata": {
        "colab": {
          "base_uri": "https://localhost:8080/"
        },
        "id": "X6e8AJFhex81",
        "outputId": "cc92a8b8-de08-4582-c90b-e2d6c7eb5c5d"
      },
      "execution_count": null,
      "outputs": [
        {
          "output_type": "stream",
          "name": "stdout",
          "text": [
            "10\n"
          ]
        }
      ]
    },
    {
      "cell_type": "code",
      "source": [
        "print(85-48)"
      ],
      "metadata": {
        "colab": {
          "base_uri": "https://localhost:8080/"
        },
        "id": "Kc-SHXFRe101",
        "outputId": "0e94972f-5211-4d07-e4e6-9840925bffb1"
      },
      "execution_count": null,
      "outputs": [
        {
          "output_type": "stream",
          "name": "stdout",
          "text": [
            "37\n"
          ]
        }
      ]
    },
    {
      "cell_type": "code",
      "source": [
        "print(6*2)"
      ],
      "metadata": {
        "colab": {
          "base_uri": "https://localhost:8080/"
        },
        "id": "rmMze2ZHe4St",
        "outputId": "0cf8a0ec-8d3c-4051-f7e9-1f84a2b3d35f"
      },
      "execution_count": null,
      "outputs": [
        {
          "output_type": "stream",
          "name": "stdout",
          "text": [
            "12\n"
          ]
        }
      ]
    },
    {
      "cell_type": "code",
      "source": [
        "print(20/5)"
      ],
      "metadata": {
        "colab": {
          "base_uri": "https://localhost:8080/"
        },
        "id": "y46p5z2ae7J1",
        "outputId": "214fe48e-9c44-4262-f623-0fe96804c8de"
      },
      "execution_count": null,
      "outputs": [
        {
          "output_type": "stream",
          "name": "stdout",
          "text": [
            "4.0\n"
          ]
        }
      ]
    },
    {
      "cell_type": "code",
      "source": [
        "print(2+7+8)"
      ],
      "metadata": {
        "colab": {
          "base_uri": "https://localhost:8080/"
        },
        "id": "6iSRzC4Te91N",
        "outputId": "602d8b49-2bd0-4806-f63b-06e2857d180a"
      },
      "execution_count": null,
      "outputs": [
        {
          "output_type": "stream",
          "name": "stdout",
          "text": [
            "17\n"
          ]
        }
      ]
    },
    {
      "cell_type": "code",
      "source": [
        "print(8-2*4)"
      ],
      "metadata": {
        "colab": {
          "base_uri": "https://localhost:8080/"
        },
        "id": "S01DxHNIfDpO",
        "outputId": "8121d245-19d4-4906-a4a9-bd46e808f4af"
      },
      "execution_count": null,
      "outputs": [
        {
          "output_type": "stream",
          "name": "stdout",
          "text": [
            "0\n"
          ]
        }
      ]
    },
    {
      "cell_type": "code",
      "source": [
        "print((7-2)*3)"
      ],
      "metadata": {
        "colab": {
          "base_uri": "https://localhost:8080/"
        },
        "id": "3aeOI8SxfHxV",
        "outputId": "f7621291-ab61-4fb9-820b-151d83cec1b5"
      },
      "execution_count": null,
      "outputs": [
        {
          "output_type": "stream",
          "name": "stdout",
          "text": [
            "15\n"
          ]
        }
      ]
    },
    {
      "cell_type": "code",
      "source": [
        "print(4*4*4)"
      ],
      "metadata": {
        "colab": {
          "base_uri": "https://localhost:8080/"
        },
        "id": "yxMQJrzUfTMO",
        "outputId": "0c3bf7ba-146c-45e4-8fe8-75b485bc1267"
      },
      "execution_count": null,
      "outputs": [
        {
          "output_type": "stream",
          "name": "stdout",
          "text": [
            "64\n"
          ]
        }
      ]
    },
    {
      "cell_type": "code",
      "source": [
        "print(4**3) #4 to the 3rd power"
      ],
      "metadata": {
        "colab": {
          "base_uri": "https://localhost:8080/"
        },
        "id": "JanUxQRqfWam",
        "outputId": "f9ef90f5-9825-4a5e-eac0-b3c98dd7ee4b"
      },
      "execution_count": null,
      "outputs": [
        {
          "output_type": "stream",
          "name": "stdout",
          "text": [
            "64\n"
          ]
        }
      ]
    },
    {
      "cell_type": "code",
      "source": [
        "print(3*4-3)"
      ],
      "metadata": {
        "colab": {
          "base_uri": "https://localhost:8080/"
        },
        "id": "djNPIb7nfZ3N",
        "outputId": "7ae4832f-e4a8-4fce-b031-280726dae5c6"
      },
      "execution_count": null,
      "outputs": [
        {
          "output_type": "stream",
          "name": "stdout",
          "text": [
            "9\n"
          ]
        }
      ]
    },
    {
      "cell_type": "code",
      "source": [
        "print((2*4)-3)"
      ],
      "metadata": {
        "colab": {
          "base_uri": "https://localhost:8080/"
        },
        "id": "vcTa92p3fi2l",
        "outputId": "20a9bd0a-d71a-4676-c564-edbd15199a59"
      },
      "execution_count": null,
      "outputs": [
        {
          "output_type": "stream",
          "name": "stdout",
          "text": [
            "5\n"
          ]
        }
      ]
    },
    {
      "cell_type": "code",
      "source": [
        " print (3*4-3)\n",
        " print ((2*4)-3)\n",
        " print (15/(7-2))\n",
        " print (7+5-3)\n",
        " print ((7+5)-3)\n",
        " print (7+(5-3))\n",
        " print ((7*2)-(2+2))\n",
        " print ((3+2)**(4-2))"
      ],
      "metadata": {
        "colab": {
          "base_uri": "https://localhost:8080/"
        },
        "id": "i1phWcnCfniV",
        "outputId": "bcef25d4-b2c4-4e86-88ec-10428b62fccf"
      },
      "execution_count": null,
      "outputs": [
        {
          "output_type": "stream",
          "name": "stdout",
          "text": [
            "9\n",
            "5\n",
            "3.0\n",
            "9\n",
            "9\n",
            "9\n",
            "10\n",
            "25\n"
          ]
        }
      ]
    },
    {
      "cell_type": "code",
      "source": [
        "print('8+3')"
      ],
      "metadata": {
        "colab": {
          "base_uri": "https://localhost:8080/"
        },
        "id": "2jd7dWHTfrE1",
        "outputId": "5c156072-09ae-478a-8fda-fd7ae8af500b"
      },
      "execution_count": null,
      "outputs": [
        {
          "output_type": "stream",
          "name": "stdout",
          "text": [
            "8+3\n"
          ]
        }
      ]
    },
    {
      "cell_type": "code",
      "source": [
        "print (('7+5='),(7+5))"
      ],
      "metadata": {
        "colab": {
          "base_uri": "https://localhost:8080/"
        },
        "id": "lBlKNMBqf2Vs",
        "outputId": "109dbc77-2a3c-43eb-f522-ce4c56c7e784"
      },
      "execution_count": null,
      "outputs": [
        {
          "output_type": "stream",
          "name": "stdout",
          "text": [
            "7+5= 12\n"
          ]
        }
      ]
    },
    {
      "cell_type": "code",
      "source": [
        "print ((7*8*2), ('is the answer to 7 * 8 * 2'))"
      ],
      "metadata": {
        "colab": {
          "base_uri": "https://localhost:8080/"
        },
        "id": "HQVzR0DDgAMV",
        "outputId": "940c910f-227b-4e38-cc33-0c83196cc1a6"
      },
      "execution_count": null,
      "outputs": [
        {
          "output_type": "stream",
          "name": "stdout",
          "text": [
            "112 is the answer to 7 * 8 * 2\n"
          ]
        }
      ]
    },
    {
      "cell_type": "code",
      "source": [
        "year=2021"
      ],
      "metadata": {
        "id": "O6Ri4cJzgTT_"
      },
      "execution_count": null,
      "outputs": []
    },
    {
      "cell_type": "code",
      "source": [
        "print (year)  #notice that we do not put year in quotes"
      ],
      "metadata": {
        "colab": {
          "base_uri": "https://localhost:8080/"
        },
        "id": "1AIk6KgWgaBs",
        "outputId": "ef6878f1-42ac-48b1-dfc9-23a155a53168"
      },
      "execution_count": null,
      "outputs": [
        {
          "output_type": "stream",
          "name": "stdout",
          "text": [
            "2021\n"
          ]
        }
      ]
    },
    {
      "cell_type": "code",
      "source": [
        "print (year+6)"
      ],
      "metadata": {
        "colab": {
          "base_uri": "https://localhost:8080/"
        },
        "id": "fVr9xwOaghRk",
        "outputId": "c03a43be-4a72-4af7-d0a2-7e3b8c43fd51"
      },
      "execution_count": null,
      "outputs": [
        {
          "output_type": "stream",
          "name": "stdout",
          "text": [
            "2027\n"
          ]
        }
      ]
    },
    {
      "cell_type": "code",
      "source": [
        "print (year-3)"
      ],
      "metadata": {
        "colab": {
          "base_uri": "https://localhost:8080/"
        },
        "id": "zs_e5S8Qglr9",
        "outputId": "902a824d-b77a-404a-fb8d-dd07fa2a3fc4"
      },
      "execution_count": null,
      "outputs": [
        {
          "output_type": "stream",
          "name": "stdout",
          "text": [
            "2018\n"
          ]
        }
      ]
    },
    {
      "cell_type": "code",
      "source": [
        "print ((year-2) +10)"
      ],
      "metadata": {
        "colab": {
          "base_uri": "https://localhost:8080/"
        },
        "id": "y8uQTlqQgoW-",
        "outputId": "3c46a5ee-1ec0-4092-a97f-adcda7753f1f"
      },
      "execution_count": null,
      "outputs": [
        {
          "output_type": "stream",
          "name": "stdout",
          "text": [
            "2029\n"
          ]
        }
      ]
    },
    {
      "cell_type": "code",
      "source": [
        "print (('the current year is'), (year)) #remember to put the comma"
      ],
      "metadata": {
        "colab": {
          "base_uri": "https://localhost:8080/"
        },
        "id": "VUW3JVspgtLl",
        "outputId": "d8afb3c5-fb1f-4022-eb3b-bf99b873f751"
      },
      "execution_count": null,
      "outputs": [
        {
          "output_type": "stream",
          "name": "stdout",
          "text": [
            "the current year is 2021\n"
          ]
        }
      ]
    },
    {
      "cell_type": "code",
      "source": [
        "print (('two years from now it will be'), (year+2)) "
      ],
      "metadata": {
        "colab": {
          "base_uri": "https://localhost:8080/"
        },
        "id": "vSoABXkwg29l",
        "outputId": "30569acf-82ab-4e07-96f9-93bf8e147a13"
      },
      "execution_count": null,
      "outputs": [
        {
          "output_type": "stream",
          "name": "stdout",
          "text": [
            "two years from now it will be 2023\n"
          ]
        }
      ]
    },
    {
      "cell_type": "code",
      "source": [
        "year=2021 # the variable year now refers to 2021"
      ],
      "metadata": {
        "id": "SbGfS0OfhBcV"
      },
      "execution_count": null,
      "outputs": []
    },
    {
      "cell_type": "code",
      "source": [
        "name=('Fresno')"
      ],
      "metadata": {
        "id": "FqyGwOaShIrz"
      },
      "execution_count": null,
      "outputs": []
    },
    {
      "cell_type": "code",
      "source": [
        "name=('State') #the variable name now refers to \"state\""
      ],
      "metadata": {
        "id": "6iDJsN7ahL9S"
      },
      "execution_count": null,
      "outputs": []
    },
    {
      "cell_type": "code",
      "source": [
        "name=input('please enter your last name: ') # you can enter a name and it will be stored"
      ],
      "metadata": {
        "colab": {
          "base_uri": "https://localhost:8080/"
        },
        "id": "De_E4AqOhRKK",
        "outputId": "02082c4b-a372-468a-82f5-6a81e9999e3e"
      },
      "execution_count": null,
      "outputs": [
        {
          "name": "stdout",
          "output_type": "stream",
          "text": [
            "please enter your last name: qweq\n"
          ]
        }
      ]
    },
    {
      "cell_type": "code",
      "source": [
        "a= 1+4 #a=5\n",
        "b=5+9 #b=14\n",
        "c=a+b #c=19\n",
        "c=c+1 #c=20"
      ],
      "metadata": {
        "id": "j1DZHc5XheUs"
      },
      "execution_count": null,
      "outputs": []
    },
    {
      "cell_type": "code",
      "source": [
        "a=10\n",
        "b=5\n",
        "result=a+b\n",
        "print ((a), ('+'),(b),('='),(result)) # make sure you type in the commas"
      ],
      "metadata": {
        "colab": {
          "base_uri": "https://localhost:8080/"
        },
        "id": "ZGTykEpah2Vl",
        "outputId": "9dbc6e8a-6c93-4652-f7b8-796595a3e4c5"
      },
      "execution_count": null,
      "outputs": [
        {
          "output_type": "stream",
          "name": "stdout",
          "text": [
            "10 + 5 = 15\n"
          ]
        }
      ]
    },
    {
      "cell_type": "code",
      "source": [
        "# This program displays a gross play\n",
        "# Get the number of hours worked\n",
        "hours = int(input('Enter the hours worked this week:'))"
      ],
      "metadata": {
        "colab": {
          "base_uri": "https://localhost:8080/"
        },
        "id": "JyeuiGILiWic",
        "outputId": "08716850-7412-4e3c-f8ab-7cf550455d47"
      },
      "execution_count": null,
      "outputs": [
        {
          "name": "stdout",
          "output_type": "stream",
          "text": [
            "Enter the hours worked this week:400\n"
          ]
        }
      ]
    },
    {
      "cell_type": "code",
      "source": [
        "#This program displays gross pay\n",
        "#Get the number of hours worked\n",
        "name=input('Please enter the worker fullname:  ')\n",
        "hours = int(input('Enter the hours worked this week: '))\n",
        "#Get the hourly pay rate.\n",
        "pay_rate = float(input('Enter the hourly pay rate: '))\n",
        "#Calculate the gross pay\n",
        "gross_pay = hours * pay_rate\n",
        "#Display the gross pay\n",
        "print(f'Gross pay: ${gross_pay:,.2f}')\n",
        "ohours = int(input('Enter the overtime hours worked this week: '))\n",
        "opay_rate = float(input('Enter the hourly overtime pay rate: '))\n",
        "overtime_pay = ohours * opay_rate\n",
        "combined_pay = overtime_pay + gross_pay\n",
        "print(f'Overtime pay: ${overtime_pay:,.2f}')\n",
        "print((ame),('Your total gross pay is: '), (overtime_pay+gross_pay))"
      ],
      "metadata": {
        "colab": {
          "base_uri": "https://localhost:8080/"
        },
        "id": "Mkgu0FolixtU",
        "outputId": "05976bdd-0b2a-4251-a7ca-0ff02f4bca94"
      },
      "execution_count": null,
      "outputs": [
        {
          "output_type": "stream",
          "name": "stdout",
          "text": [
            "Please enter the worker fullname:  aa\n",
            "Enter the hours worked this week: 40\n",
            "Enter the hourly pay rate: 16\n",
            "Gross pay: $640.00\n",
            "Enter the overtime hours worked this week: 20\n",
            "Enter the hourly overtime pay rate: 24\n",
            "Overtime pay: $480.00\n",
            "aa Your total gross pay is:  1120.0\n"
          ]
        }
      ]
    },
    {
      "cell_type": "code",
      "source": [
        "if 10==10:\n",
        "  print('equal')"
      ],
      "metadata": {
        "colab": {
          "base_uri": "https://localhost:8080/"
        },
        "id": "sHtMrjHWlVv6",
        "outputId": "07d5c4e1-8dc6-4a71-e5df-304d37554aff"
      },
      "execution_count": null,
      "outputs": [
        {
          "output_type": "stream",
          "name": "stdout",
          "text": [
            "equal\n"
          ]
        }
      ]
    },
    {
      "cell_type": "code",
      "source": [
        "if(5*2)==10:\n",
        "    print('The expression is equal')"
      ],
      "metadata": {
        "colab": {
          "base_uri": "https://localhost:8080/"
        },
        "id": "5ouGEZY5lf9q",
        "outputId": "7594246a-8e75-454b-9182-9fedff4edc2f"
      },
      "execution_count": null,
      "outputs": [
        {
          "output_type": "stream",
          "name": "stdout",
          "text": [
            "The expression is equal\n"
          ]
        }
      ]
    },
    {
      "cell_type": "code",
      "source": [
        "if(8+3)!=10:\n",
        "    print('Not equal')"
      ],
      "metadata": {
        "colab": {
          "base_uri": "https://localhost:8080/"
        },
        "id": "_y1YfEhDlply",
        "outputId": "8514ed80-b04c-4f0e-8334-950d9011b4af"
      },
      "execution_count": null,
      "outputs": [
        {
          "output_type": "stream",
          "name": "stdout",
          "text": [
            "Not equal\n"
          ]
        }
      ]
    },
    {
      "cell_type": "code",
      "source": [
        "if 8>5:\n",
        "    print('8 is greater than 5')"
      ],
      "metadata": {
        "colab": {
          "base_uri": "https://localhost:8080/"
        },
        "id": "_2QHtsZUl24q",
        "outputId": "9f565df5-0f01-4ad1-a7e0-f8a03ab2db33"
      },
      "execution_count": null,
      "outputs": [
        {
          "output_type": "stream",
          "name": "stdout",
          "text": [
            "8 is greater than 5\n"
          ]
        }
      ]
    },
    {
      "cell_type": "code",
      "source": [
        "if 8<5:\n",
        "    print('8 is less than 5')     #this is false so it should not be executed"
      ],
      "metadata": {
        "id": "MYZuu68Kl7xs"
      },
      "execution_count": null,
      "outputs": []
    },
    {
      "cell_type": "code",
      "source": [
        "a=6\n",
        "b=7\n",
        "c=3\n",
        "d=('fresno')\n",
        "e=('state')\n",
        "if a==(c*2):\n",
        "    print('6=3*2')\n",
        "if d!=e:                  #!=is used to test for inequality (not equal to)\n",
        "  print ('the names are not the same')\n",
        "  b=9\n",
        "  print ('b has been set to 9')\n",
        "  "
      ],
      "metadata": {
        "colab": {
          "base_uri": "https://localhost:8080/"
        },
        "id": "M64O4ZPnmMtE",
        "outputId": "2bbdccf4-a1e9-4c85-8a5d-9b14a3f9ddb2"
      },
      "execution_count": null,
      "outputs": [
        {
          "output_type": "stream",
          "name": "stdout",
          "text": [
            "6=3*2\n",
            "the names are not the same\n",
            "b has been set to 9\n"
          ]
        }
      ]
    },
    {
      "cell_type": "code",
      "source": [
        "a=10\n",
        "b=5\n",
        "operation = ('unkown operation')\n",
        "result=('???')\n",
        "print ('which operation should i perform + or - ?')\n",
        "operation=input()\n",
        "if operation==('+'):\n",
        "  result=a+b\n",
        "if operation==('-'):\n",
        "  result=a-b\n",
        "print ((a),(operation),(b),('='),(result))\n"
      ],
      "metadata": {
        "colab": {
          "base_uri": "https://localhost:8080/"
        },
        "id": "wX-2-Xydm9ti",
        "outputId": "c455974d-19df-4eeb-dc3e-535de1f79c3d"
      },
      "execution_count": null,
      "outputs": [
        {
          "output_type": "stream",
          "name": "stdout",
          "text": [
            "which operation should i perform + or - ?\n",
            "-\n",
            "10 - 5 = 5\n"
          ]
        }
      ]
    },
    {
      "cell_type": "code",
      "source": [
        "name= input ('please enter your last name: ')\n",
        "print ('please enter a number')\n",
        "a=eval(input())\n",
        "print ('please enter another number')\n",
        "b=eval(input())\n",
        "print ('which operation should i perform +, -, *, / , or** ?')\n",
        "operation=input()\n",
        "if operation==('+'):\n",
        "  result=a+b\n",
        "if operation==('-'):\n",
        "  result=a-b\n",
        "if operation==('*'):\n",
        "  result=a*b\n",
        "if operation==('/'):\n",
        "  result=a/b\n",
        "if operation==('**'):\n",
        "  result=a**b\n",
        "print ((name),('here is your answer: '), (a),(operation),(b),('='),(result))"
      ],
      "metadata": {
        "colab": {
          "base_uri": "https://localhost:8080/"
        },
        "id": "vGgyNC0fny8C",
        "outputId": "2ac0bae8-e263-4516-cc1b-3bcf37ed45c3"
      },
      "execution_count": null,
      "outputs": [
        {
          "output_type": "stream",
          "name": "stdout",
          "text": [
            "please enter your last name: yan\n",
            "please enter a number\n",
            "12\n",
            "please enter another number\n",
            "5000\n",
            "which operation should i perform +, -, *, / , or** ?\n",
            "*\n",
            "yan here is your answer:  12 * 5000 = 60000\n"
          ]
        }
      ]
    }
  ]
}